{
 "cells": [
  {
   "cell_type": "markdown",
   "metadata": {},
   "source": [
    "# Exercise 04:  Route Planning"
   ]
  },
  {
   "cell_type": "markdown",
   "metadata": {},
   "source": [
    "In route planning, the objective is to find the best way to get from point A to point B (think Google Maps). In this exercise, we will try top of the classic shortest path problem."
   ]
  },
  {
   "cell_type": "markdown",
   "metadata": {},
   "source": [
    "### Basic Imports"
   ]
  },
  {
   "cell_type": "code",
   "execution_count": 1,
   "metadata": {},
   "outputs": [],
   "source": [
    "from typing import List, Tuple\n",
    "import os\n",
    "import json\n",
    "from typing import List, Optional\n",
    "import graderUtil\n",
    "import util\n",
    "from mapUtil import (\n",
    "    CityMap,\n",
    "    checkValid,\n",
    "    createGridMap,\n",
    "    createGridMapWithCustomTags,\n",
    "    createStanfordMap,\n",
    "    getTotalCost,\n",
    "    locationFromTag,\n",
    "    makeGridLabel,\n",
    "    makeTag,\n",
    ")\n",
    "\n",
    "from util import Heuristic, SearchProblem, State, UniformCostSearch"
   ]
  },
  {
   "cell_type": "markdown",
   "metadata": {},
   "source": [
    "### Basic Functions"
   ]
  },
  {
   "cell_type": "code",
   "execution_count": 10,
   "metadata": {},
   "outputs": [],
   "source": [
    "def extractPath(startLocation: str, search: util.SearchAlgorithm) -> List[str]:\n",
    "    \"\"\"\n",
    "    Assumes that `solve()` has already been called on the `searchAlgorithm`.\n",
    "\n",
    "    We extract a sequence of locations from `search.path` (see util.py to better\n",
    "    understand exactly how this list gets populated).\n",
    "    \"\"\"\n",
    "    return [startLocation] + search.actions\n",
    "\n",
    "def printPath(\n",
    "    path: List[str],\n",
    "    waypointTags: List[str],\n",
    "    cityMap: CityMap,\n",
    "    outPath: Optional[str] = \"path.json\",\n",
    "):\n",
    "    doneWaypointTags = set()\n",
    "    for location in path:\n",
    "        for tag in cityMap.tags[location]:\n",
    "            if tag in waypointTags:\n",
    "                doneWaypointTags.add(tag)\n",
    "        tagsStr = \" \".join(cityMap.tags[location])\n",
    "        doneTagsStr = \" \".join(sorted(doneWaypointTags))\n",
    "        print(f\"Location {location} tags:[{tagsStr}]; done:[{doneTagsStr}]\")\n",
    "    print(f\"Total distance: {getTotalCost(path, cityMap)}\")\n",
    "\n",
    "    # (Optional) Write path to file, for use with `visualize.py`\n",
    "    if outPath is not None:\n",
    "        with open(outPath, \"w\") as f:\n",
    "            data = {\"waypointTags\": waypointTags, \"path\": path}\n",
    "            json.dump(data, f, indent=2)"
   ]
  },
  {
   "cell_type": "markdown",
   "metadata": {},
   "source": [
    "### Task 1: Shortest Path Problem\n",
    "\n",
    "Implement ``ShortestPathProblem`` so that given a ``startLocation`` and ``endTag``, the minimum cost path corresponds to the shortest path from startLocation to any location that has the ``endTag``.\n",
    "\n",
    "In particular, you need to implement ``startState()``, ``isEnd(state)``, ``successorsAndCosts(state)``.\n",
    "\n",
    "Recall the separation between search problem (modeling) and search algorithm (inference). You should focus on modeling (defining the ``ShortestPathProblem``); the default search algorithm, ``UniformCostSearch`` (UCS), is implemented for you in ``util.py``.\n",
    "\n",
    "\n",
    "---"
   ]
  },
  {
   "cell_type": "code",
   "execution_count": 4,
   "metadata": {},
   "outputs": [],
   "source": [
    "class ShortestPathProblem(SearchProblem):\n",
    "    \"\"\"\n",
    "    Defines a search problem that corresponds to finding the shortest path\n",
    "    from `startLocation` to any location with the specified `endTag`.\n",
    "    \"\"\"\n",
    "\n",
    "    def __init__(self, startLocation: str, endTag: str, cityMap: CityMap):\n",
    "        self.startLocation = startLocation\n",
    "        self.endTag = endTag\n",
    "        self.cityMap = cityMap\n",
    "\n",
    "    def startState(self) -> State:\n",
    "        # The start state is the start location with an empty tuple as memory\n",
    "        return State(self.startLocation, memory=())\n",
    "\n",
    "    def isEnd(self, state: State) -> bool:\n",
    "        # Check if the current location matches the endTag\n",
    "        return self.endTag in self.cityMap.tags[state.location]\n",
    "\n",
    "    def successorsAndCosts(self, state: State) -> List[Tuple[str, State, float]]:\n",
    "        successors = []\n",
    "        for neighbor in self.cityMap.distances[state.location]:\n",
    "            cost = self.cityMap.distances[state.location][neighbor]\n",
    "            # Using an empty tuple for memory in the successor states\n",
    "            successors.append((neighbor, State(neighbor, memory=()), cost))\n",
    "        return successors"
   ]
  },
  {
   "cell_type": "markdown",
   "metadata": {},
   "source": [
    "---"
   ]
  },
  {
   "cell_type": "markdown",
   "metadata": {},
   "source": [
    "Let us find the shortest path from gate to the landmark of Stanford university, Hoover Tower."
   ]
  },
  {
   "cell_type": "markdown",
   "metadata": {},
   "source": [
    "### Initialization Setting"
   ]
  },
  {
   "cell_type": "code",
   "execution_count": 18,
   "metadata": {},
   "outputs": [],
   "source": [
    "cityMap = createStanfordMap()\n",
    "startLocation = locationFromTag(makeTag(\"landmark\", \"gates\"), cityMap)\n",
    "endTag = makeTag(\"landmark\", \"hoover_tower\")"
   ]
  },
  {
   "cell_type": "markdown",
   "metadata": {},
   "source": [
    "### Print Path"
   ]
  },
  {
   "cell_type": "code",
   "execution_count": 19,
   "metadata": {},
   "outputs": [
    {
     "name": "stdout",
     "output_type": "stream",
     "text": [
      "Location 5060846126 tags:[label=5060846126 landmark=gates]; done:[]\n",
      "Location 6333452711 tags:[label=6333452711 crossing=unmarked highway=crossing]; done:[]\n",
      "Location 256568547 tags:[label=256568547]; done:[]\n",
      "Location 5444520501 tags:[label=5444520501]; done:[]\n",
      "Location 5444520500 tags:[label=5444520500]; done:[]\n",
      "Location 5444520499 tags:[label=5444520499]; done:[]\n",
      "Location 256568551 tags:[label=256568551]; done:[]\n",
      "Location 256568564 tags:[label=256568564]; done:[]\n",
      "Location 5444520498 tags:[label=5444520498]; done:[]\n",
      "Location 5444520497 tags:[label=5444520497]; done:[]\n",
      "Location 5444520496 tags:[label=5444520496]; done:[]\n",
      "Location 256568553 tags:[label=256568553]; done:[]\n",
      "Location 256568550 tags:[label=256568550]; done:[]\n",
      "Location 6333452712 tags:[label=6333452712 crossing=unmarked highway=crossing]; done:[]\n",
      "Location 6883032631 tags:[label=6883032631 bus=yes name=Packard Electrical Engineering network=Marguerite operator=Stanford University public_transport=stop_position]; done:[]\n",
      "Location 6883032630 tags:[label=6883032630 bus=yes name=Gates Building network=Marguerite operator=Stanford University public_transport=stop_position]; done:[]\n",
      "Location 4960624818 tags:[label=4960624818]; done:[]\n",
      "Location 2300357021 tags:[label=2300357021]; done:[]\n",
      "Location 65613237 tags:[label=65613237]; done:[]\n",
      "Location 65413069 tags:[label=65413069]; done:[]\n",
      "Location 6883032634 tags:[label=6883032634 bus=yes name=Main Quad network=Marguerite operator=Stanford University public_transport=stop_position]; done:[]\n",
      "Location 256568429 tags:[label=256568429 crossing=uncontrolled highway=crossing kerb=flush]; done:[]\n",
      "Location 6489123692 tags:[label=6489123692 bus=yes name=Stanford Campus Oval network=Marguerite operator=Stanford University public_transport=stop_position]; done:[]\n",
      "Location 65413104 tags:[label=65413104]; done:[]\n",
      "Location 5969785426 tags:[label=5969785426 direction=anticlockwise highway=mini_roundabout]; done:[]\n",
      "Location 5969785425 tags:[label=5969785425]; done:[]\n",
      "Location 8416756856 tags:[label=8416756856]; done:[]\n",
      "Location 6332211543 tags:[label=6332211543]; done:[]\n",
      "Location 6477408380 tags:[label=6477408380]; done:[]\n",
      "Location 8518728052 tags:[label=8518728052]; done:[]\n",
      "Location 8518728046 tags:[label=8518728046]; done:[]\n",
      "Location 6477408381 tags:[label=6477408381 entrance=yes landmark=hoover_tower]; done:[]\n",
      "Total distance: 672.7598315865247\n"
     ]
    }
   ],
   "source": [
    "ucs = util.UniformCostSearch(verbose=0)\n",
    "ucs.solve(ShortestPathProblem(startLocation,endTag,cityMap))\n",
    "path = extractPath(startLocation, ucs)\n",
    "printPath(path=path, waypointTags=[], cityMap=cityMap)"
   ]
  },
  {
   "cell_type": "markdown",
   "metadata": {},
   "source": [
    "### Visualization"
   ]
  },
  {
   "cell_type": "code",
   "execution_count": 15,
   "metadata": {},
   "outputs": [
    {
     "data": {
      "text/plain": [
       "0"
      ]
     },
     "execution_count": 15,
     "metadata": {},
     "output_type": "execute_result"
    }
   ],
   "source": [
    "os.system(\"python visualization.py\")"
   ]
  }
 ],
 "metadata": {
  "kernelspec": {
   "display_name": "Python 3",
   "language": "python",
   "name": "python3"
  },
  "language_info": {
   "codemirror_mode": {
    "name": "ipython",
    "version": 3
   },
   "file_extension": ".py",
   "mimetype": "text/x-python",
   "name": "python",
   "nbconvert_exporter": "python",
   "pygments_lexer": "ipython3",
   "version": "3.10.12"
  }
 },
 "nbformat": 4,
 "nbformat_minor": 2
}
