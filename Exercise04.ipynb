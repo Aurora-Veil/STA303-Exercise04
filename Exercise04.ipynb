{
 "cells": [
  {
   "cell_type": "markdown",
   "metadata": {},
   "source": [
    "# Exercise 04:  Route Planning"
   ]
  },
  {
   "cell_type": "markdown",
   "metadata": {},
   "source": [
    "In route planning, the objective is to find the best way to get from point A to point B (think Google Maps). In this exercise, we will try top of the classic shortest path problem."
   ]
  },
  {
   "cell_type": "markdown",
   "metadata": {},
   "source": [
    "### Basic Imports"
   ]
  },
  {
   "cell_type": "code",
   "execution_count": null,
   "metadata": {},
   "outputs": [],
   "source": [
    "from typing import List, Tuple\n",
    "import os\n",
    "import json\n",
    "from typing import List, Optional\n",
    "import graderUtil\n",
    "import util\n",
    "from mapUtil import (\n",
    "    CityMap,\n",
    "    checkValid,\n",
    "    createGridMap,\n",
    "    createGridMapWithCustomTags,\n",
    "    createStanfordMap,\n",
    "    getTotalCost,\n",
    "    locationFromTag,\n",
    "    makeGridLabel,\n",
    "    makeTag,\n",
    ")\n",
    "\n",
    "from util import Heuristic, SearchProblem, State, UniformCostSearch"
   ]
  },
  {
   "cell_type": "markdown",
   "metadata": {},
   "source": [
    "### Basic Functions"
   ]
  },
  {
   "cell_type": "code",
   "execution_count": null,
   "metadata": {},
   "outputs": [],
   "source": [
    "def extractPath(startLocation: str, search: util.SearchAlgorithm) -> List[str]:\n",
    "    \"\"\"\n",
    "    Assumes that `solve()` has already been called on the `searchAlgorithm`.\n",
    "\n",
    "    We extract a sequence of locations from `search.path` (see util.py to better\n",
    "    understand exactly how this list gets populated).\n",
    "    \"\"\"\n",
    "    return [startLocation] + search.actions\n",
    "\n",
    "def printPath(\n",
    "    path: List[str],\n",
    "    waypointTags: List[str],\n",
    "    cityMap: CityMap,\n",
    "    outPath: Optional[str] = \"path.json\",\n",
    "):\n",
    "    doneWaypointTags = set()\n",
    "    for location in path:\n",
    "        for tag in cityMap.tags[location]:\n",
    "            if tag in waypointTags:\n",
    "                doneWaypointTags.add(tag)\n",
    "        tagsStr = \" \".join(cityMap.tags[location])\n",
    "        doneTagsStr = \" \".join(sorted(doneWaypointTags))\n",
    "        print(f\"Location {location} tags:[{tagsStr}]; done:[{doneTagsStr}]\")\n",
    "    print(f\"Total distance: {getTotalCost(path, cityMap)}\")\n",
    "\n",
    "    # (Optional) Write path to file, for use with `visualize.py`\n",
    "    if outPath is not None:\n",
    "        with open(outPath, \"w\") as f:\n",
    "            data = {\"waypointTags\": waypointTags, \"path\": path}\n",
    "            json.dump(data, f, indent=2)"
   ]
  },
  {
   "cell_type": "markdown",
   "metadata": {},
   "source": [
    "### Task 1: Shortest Path Problem\n",
    "\n",
    "Implement ``ShortestPathProblem`` so that given a ``startLocation`` and ``endTag``, the minimum cost path corresponds to the shortest path from startLocation to any location that has the ``endTag``.\n",
    "\n",
    "In particular, you need to implement ``startState()``, ``isEnd(state)``, ``successorsAndCosts(state)``.\n",
    "\n",
    "Recall the separation between search problem (modeling) and search algorithm (inference). You should focus on modeling (defining the ``ShortestPathProblem``); the default search algorithm, ``UniformCostSearch`` (UCS), is implemented for you in ``util.py``.\n",
    "\n",
    "\n",
    "Note: check out the docstring for `State` in `util.py` for more details and code.\n",
    "\n",
    "\n",
    "---"
   ]
  },
  {
   "cell_type": "code",
   "execution_count": null,
   "metadata": {},
   "outputs": [],
   "source": [
    "class ShortestPathProblem(SearchProblem):\n",
    "    \"\"\"\n",
    "    Defines a search problem that corresponds to finding the shortest path\n",
    "    from `startLocation` to any location with the specified `endTag`.\n",
    "    \"\"\"\n",
    "\n",
    "    def __init__(self, startLocation: str, endTag: str, cityMap: CityMap):\n",
    "        self.startLocation = startLocation\n",
    "        self.endTag = endTag\n",
    "        self.cityMap = cityMap\n",
    "\n",
    "    def startState(self) -> State:\n",
    "        # BEGIN_YOUR_CODE \n",
    "        raise Exception(\"Not implemented yet\")\n",
    "        # END_YOUR_CODE\n",
    "\n",
    "    def isEnd(self, state: State) -> bool:\n",
    "        # BEGIN_YOUR_CODE \n",
    "        raise Exception(\"Not implemented yet\")\n",
    "        # END_YOUR_CODE\n",
    "\n",
    "    def successorsAndCosts(self, state: State) -> List[Tuple[str, State, float]]:\n",
    "        # BEGIN_YOUR_CODE \n",
    "        raise Exception(\"Not implemented yet\")\n",
    "        # END_YOUR_CODE"
   ]
  },
  {
   "cell_type": "markdown",
   "metadata": {},
   "source": [
    "---"
   ]
  },
  {
   "cell_type": "markdown",
   "metadata": {},
   "source": [
    "Let us find the shortest path from gate to the landmark of Stanford university, Hoover Tower."
   ]
  },
  {
   "cell_type": "markdown",
   "metadata": {},
   "source": [
    "### Initialization Setting"
   ]
  },
  {
   "cell_type": "code",
   "execution_count": null,
   "metadata": {},
   "outputs": [],
   "source": [
    "cityMap = createStanfordMap()\n",
    "startLocation = locationFromTag(makeTag(\"landmark\", \"gates\"), cityMap)\n",
    "endTag = makeTag(\"landmark\", \"hoover_tower\")"
   ]
  },
  {
   "cell_type": "markdown",
   "metadata": {},
   "source": [
    "### Print Path"
   ]
  },
  {
   "cell_type": "code",
   "execution_count": null,
   "metadata": {},
   "outputs": [],
   "source": [
    "ucs = util.UniformCostSearch(verbose=0)\n",
    "ucs.solve(ShortestPathProblem(startLocation,endTag,cityMap))\n",
    "path = extractPath(startLocation, ucs)\n",
    "printPath(path=path, waypointTags=[], cityMap=cityMap)"
   ]
  },
  {
   "cell_type": "markdown",
   "metadata": {},
   "source": [
    "### Visualization"
   ]
  },
  {
   "cell_type": "code",
   "execution_count": null,
   "metadata": {},
   "outputs": [],
   "source": [
    "os.system(\"python visualization.py\")"
   ]
  }
 ],
 "metadata": {
  "kernelspec": {
   "display_name": "Python 3",
   "language": "python",
   "name": "python3"
  },
  "language_info": {
   "codemirror_mode": {
    "name": "ipython",
    "version": 3
   },
   "file_extension": ".py",
   "mimetype": "text/x-python",
   "name": "python",
   "nbconvert_exporter": "python",
   "pygments_lexer": "ipython3",
   "version": "3.10.12"
  }
 },
 "nbformat": 4,
 "nbformat_minor": 2
}
